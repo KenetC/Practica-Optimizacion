{
 "cells": [
  {
   "cell_type": "code",
   "execution_count": null,
   "id": "e7123c73",
   "metadata": {},
   "outputs": [],
   "source": [
    "function ab(x::String)\n",
    "    println(x)\n",
    "end"
   ]
  },
  {
   "cell_type": "code",
   "execution_count": null,
   "id": "f6f8cd12",
   "metadata": {},
   "outputs": [],
   "source": [
    "ab"
   ]
  }
 ],
 "metadata": {
  "kernelspec": {
   "display_name": "Julia 1.10.3",
   "language": "julia",
   "name": "julia-1.10"
  }
 },
 "nbformat": 4,
 "nbformat_minor": 5
}
